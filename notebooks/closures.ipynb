{
 "cells": [
  {
   "cell_type": "markdown",
   "id": "a38b9e41-fbc5-4ba6-8133-e526466efa3d",
   "metadata": {},
   "source": [
    "# Closures\n",
    "A closure is a function object that is able to remember its environment or use values in enclosing scoping that are not in the memory anymore."
   ]
  },
  {
   "cell_type": "markdown",
   "id": "9d913847-7f61-4b97-8d49-3b2440d627ad",
   "metadata": {
    "tags": []
   },
   "source": [
    "## Nested functions\n",
    "A function defined inside another function is known as a ***nested function***.\n",
    "The names defined in the outer function scope are ***nonlocal*** from the nested/inner function point of view.\n",
    "The nested funcion is able to access to the ***nonlocal*** variables, but it is **not** able to modify them without the nonlocal statement."
   ]
  },
  {
   "cell_type": "code",
   "execution_count": 1,
   "id": "1a05a8df-298a-43b7-9e88-6d42140585d0",
   "metadata": {
    "jupyter": {
     "source_hidden": true
    },
    "tags": []
   },
   "outputs": [
    {
     "name": "stdout",
     "output_type": "stream",
     "text": [
      "Hello World\n"
     ]
    }
   ],
   "source": [
    "def outer_function(text: str):\n",
    "    def inner_function():\n",
    "        # text is in the outer_function scope, then it is nonlocal from the inner_function point of view\n",
    "        # inner_function is a nested funciton of outer_function, then it is able to accesses to text variable\n",
    "        print(text)\n",
    "    return inner_function()\n",
    "outer_function(\"Hello World\")"
   ]
  },
  {
   "cell_type": "code",
   "execution_count": 2,
   "id": "6c4b1c87-fd5c-44eb-be32-f0d1ac295fe0",
   "metadata": {
    "tags": []
   },
   "outputs": [
    {
     "name": "stdout",
     "output_type": "stream",
     "text": [
      "ERROR - UnboundLocalError: local variable 'text' referenced before assignment\n"
     ]
    }
   ],
   "source": [
    "def outer_function(text: str):\n",
    "    def inner_function():\n",
    "        # inner_function is able to accesses to text variable but it is not able to modify it\n",
    "        text += \" from inner function\"\n",
    "        print(text)\n",
    "    return inner_function()\n",
    "try:\n",
    "    outer_function(\"Hello World\")\n",
    "except UnboundLocalError as exc:\n",
    "    print(\"ERROR - UnboundLocalError:\", exc)"
   ]
  },
  {
   "cell_type": "code",
   "execution_count": 3,
   "id": "7adda5bb-8e55-4a16-b5a8-9e492aeac8ba",
   "metadata": {
    "jupyter": {
     "source_hidden": true
    },
    "tags": []
   },
   "outputs": [
    {
     "name": "stdout",
     "output_type": "stream",
     "text": [
      "Hello World from inner function\n"
     ]
    }
   ],
   "source": [
    "def outer_function(text: str):\n",
    "    def inner_function():\n",
    "        # to modify variables in the outer_function scope it is required the nonlocal statement\n",
    "        nonlocal text\n",
    "        text += \" from inner function\"\n",
    "        print(text)\n",
    "    return inner_function()\n",
    "outer_function(\"Hello World\")"
   ]
  },
  {
   "cell_type": "code",
   "execution_count": 4,
   "id": "1d4e4dbc-422c-4c06-b762-fcf816a9945f",
   "metadata": {
    "tags": []
   },
   "outputs": [
    {
     "name": "stdout",
     "output_type": "stream",
     "text": [
      " This is inner function and this is second inner function\n"
     ]
    }
   ],
   "source": [
    "def outer_function(text: str):\n",
    "    text = \" This is outer function\"\n",
    "    def inner_function():\n",
    "        text = \" This is inner function\"\n",
    "        def second_inner_function():\n",
    "            # it looks nonlocal statement takes the closest upper scope\n",
    "            nonlocal text\n",
    "            text += \" and this is second inner function\"\n",
    "            print(text)\n",
    "        return second_inner_function()\n",
    "    return inner_function()\n",
    "outer_function(\"Hello World\")"
   ]
  },
  {
   "cell_type": "markdown",
   "id": "7c38780a-def9-4373-90a7-b44716201b49",
   "metadata": {},
   "source": [
    "## Closure usage\n",
    "To obtain a closure we need to return the nested function without calling it, because we want a function not the function result. Then, we have the following use cases\n",
    "- Replace hardcoded constants, they can be part of the outer scope and be used in the inner scope\n",
    "- Reduce use of global variables\n",
    "- Data hiding, it works as callback function\n",
    "It is useful to work with closures to add functionalities to a function and we don't need/want to define classes"
   ]
  },
  {
   "cell_type": "markdown",
   "id": "658ea81c-908c-4491-93ca-275142e5fde2",
   "metadata": {},
   "source": [
    "### Example"
   ]
  },
  {
   "cell_type": "code",
   "execution_count": 5,
   "id": "52262460-7169-48fb-8063-d93a4d943575",
   "metadata": {},
   "outputs": [
    {
     "name": "stdout",
     "output_type": "stream",
     "text": [
      "Yo soy un programador python\n",
      "I'm a python developer\n"
     ]
    }
   ],
   "source": [
    "# Let's start with the following example\n",
    "translations = {\n",
    "        (\"es\", \"I'm a python developer\"): \"Yo soy un programador python\",\n",
    "        (\"en\", \"Yo soy un programador python\"): \"I'm a python developer\",\n",
    "    }\n",
    "\n",
    "def translate(text, lang):\n",
    "    try:\n",
    "        return translations[(lang, text)]\n",
    "    except KeyError:\n",
    "        return text\n",
    "print(translate(\"I'm a python developer\", \"es\"))\n",
    "print(translate(\"Yo soy un programador python\", \"en\"))"
   ]
  },
  {
   "cell_type": "code",
   "execution_count": 6,
   "id": "4ed28318-47e5-453a-81fd-2b582c96f871",
   "metadata": {},
   "outputs": [
    {
     "name": "stdout",
     "output_type": "stream",
     "text": [
      "Yo soy un programador python\n",
      "I'm a python developer\n"
     ]
    }
   ],
   "source": [
    "# Now, we want to:\n",
    "# - Reduce use of global variables\n",
    "# - Data hiding\n",
    "def translate_setup():\n",
    "    # translations is not global variable anymore and it is hide as well\n",
    "    translations = {\n",
    "        (\"es\", \"I'm a python developer\"): \"Yo soy un programador python\",\n",
    "        (\"en\", \"Yo soy un programador python\"): \"I'm a python developer\",\n",
    "    }\n",
    "    def translate(text, lang):\n",
    "        try:\n",
    "            return translations[(lang, text)]\n",
    "        except KeyError:\n",
    "            return text\n",
    "    return translate\n",
    "\n",
    "# translate_func stores the translate function with 'translations' variable from translate_setup scope that already completes\n",
    "translate_func = translate_setup()\n",
    "print(translate_func(\"I'm a python developer\", \"es\"))\n",
    "print(translate_func(\"Yo soy un programador python\", \"en\"))"
   ]
  },
  {
   "cell_type": "code",
   "execution_count": 7,
   "id": "cbde59bc-d772-4b92-b85b-29193c7677ed",
   "metadata": {},
   "outputs": [
    {
     "name": "stdout",
     "output_type": "stream",
     "text": [
      "Yo soy un programador python\n",
      "I'm a python developer\n"
     ]
    }
   ],
   "source": [
    "# Now we want to:\n",
    "# - Replace hardcoded constants\n",
    "def translate_setup(lang):\n",
    "    translations = {\n",
    "        (\"es\", \"I'm a python developer\"): \"Yo soy un programador python\",\n",
    "        (\"en\", \"Yo soy un programador python\"): \"I'm a python developer\",\n",
    "    }\n",
    "    # lang is from the outer_scope and current_lang is from the inner_scope. We can read lang if the closure is called without current_lang\n",
    "    def translate(text, current_lang=lang): \n",
    "        try:\n",
    "            return translations[(current_lang, text)]\n",
    "        except KeyError:\n",
    "            return text\n",
    "    return translate\n",
    "\n",
    "# We assign 'es' to lang that is part of the outer/translate_setup scope\n",
    "translate_func = translate_setup(\"es\")\n",
    "# The closure (translate_func) will use the lang in the outer_scope because we are not providing a current_lang\n",
    "print(translate_func(\"I'm a python developer\"))\n",
    "# We can define a current_lang as well. In this scenario, the closure uses 'en' instead of lang\n",
    "print(translate_func(\"Yo soy un programador python\", \"en\"))"
   ]
  },
  {
   "cell_type": "markdown",
   "id": "a1da1d32-e9b3-4e6f-9d6c-e2fcf3007ef3",
   "metadata": {},
   "source": [
    "## How does it really work?\n",
    "The outer_function variables are shared between the outer_scope and inner_scope, this is possible because python creates an intermediate object called a ***cell***. Then, a closure could be considered as a function with an additional variable that contains some variables."
   ]
  },
  {
   "cell_type": "code",
   "execution_count": 8,
   "id": "90a8d8f4-97e6-4cb4-97a5-13e9190b7f93",
   "metadata": {},
   "outputs": [
    {
     "name": "stdout",
     "output_type": "stream",
     "text": [
      "Outer Scope - 0x7f72c8670300\n",
      "Inner Scope - 0x7f72c8670300\n",
      "(<cell at 0x7f72c8677bb0: dict object at 0x7f72c8670300>,)\n",
      "('translations',)\n"
     ]
    }
   ],
   "source": [
    "# Let's assume that we have two variables in the outer_scope: 'translations' and 'lang'\n",
    "def translate_setup():\n",
    "    lang = \"es\"\n",
    "    translations = {\n",
    "        (\"es\", \"I'm a python developer\"): \"Yo soy un programador python\",\n",
    "        (\"en\", \"Yo soy un programador python\"): \"I'm a python developer\",\n",
    "    }\n",
    "    print(\"Outer Scope -\", hex(id(translations)))\n",
    "    def translate(text, current_lang): \n",
    "        try:\n",
    "            print(\"Inner Scope -\", hex(id(translations)))\n",
    "            return translations[(current_lang, text)]\n",
    "        except KeyError:\n",
    "            return text\n",
    "    return translate\n",
    "\n",
    "translate_func = translate_setup()\n",
    "translate_func(\"I'm a python developer\", \"es\")\n",
    "\n",
    "# __closure__ is the cell object that stores the 'translations' memory location\n",
    "# We can see that the translations object is the same in the outer scope, inner scope and cell object\n",
    "print(translate_func.__closure__)\n",
    "print(translate_func.__code__.co_freevars)\n",
    "\n",
    "# We only see the translations object in the cell object because is the only variable used in the outer/inner scope\n",
    "# The lang variable is not used"
   ]
  },
  {
   "cell_type": "code",
   "execution_count": 9,
   "id": "16dac86c-a687-43aa-9e9b-e464ca722f2f",
   "metadata": {},
   "outputs": [
    {
     "name": "stdout",
     "output_type": "stream",
     "text": [
      "(<cell at 0x7f72c8677400: str object at 0x7f72ca0c6c70>, <cell at 0x7f72c8677730: dict object at 0x7f72c8623600>)\n",
      "('lang', 'translations')\n"
     ]
    }
   ],
   "source": [
    "# Let's use lang in the outer and inner scope\n",
    "def translate_setup():\n",
    "    lang = \"es\"\n",
    "    translations = {\n",
    "        (\"es\", \"I'm a python developer\"): \"Yo soy un programador python\",\n",
    "        (\"en\", \"Yo soy un programador python\"): \"I'm a python developer\",\n",
    "    }\n",
    "    def translate(text, current_lang=None): \n",
    "        try:\n",
    "            if current_lang is None:\n",
    "                current_lang = lang\n",
    "            return translations[(current_lang, text)]\n",
    "        except KeyError:\n",
    "            return text\n",
    "    return translate\n",
    "\n",
    "translate_func = translate_setup()\n",
    "\n",
    "# __closure__ shows the lang and translation memory positions, because they are used in the outer/inner scope\n",
    "print(translate_func.__closure__)\n",
    "print(translate_func.__code__.co_freevars)"
   ]
  }
 ],
 "metadata": {
  "kernelspec": {
   "display_name": "Python 3 (ipykernel)",
   "language": "python",
   "name": "python3"
  },
  "language_info": {
   "codemirror_mode": {
    "name": "ipython",
    "version": 3
   },
   "file_extension": ".py",
   "mimetype": "text/x-python",
   "name": "python",
   "nbconvert_exporter": "python",
   "pygments_lexer": "ipython3",
   "version": "3.10.8"
  }
 },
 "nbformat": 4,
 "nbformat_minor": 5
}
