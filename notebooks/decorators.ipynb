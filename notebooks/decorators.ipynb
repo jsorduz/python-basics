{
 "cells": [
  {
   "cell_type": "markdown",
   "id": "42889f1b-cf83-4ed9-bd86-a17a06968fb5",
   "metadata": {},
   "source": [
    "# Decorators\n",
    "A decorator is a function that takes a function as a parameter and returns a function. In other words, a decorator wraps a function and modify its behavior without modifying the function itself. This is possible because functions are **first class objects** in Python, this means that:\n",
    "- We can store a function in a variable\n",
    "- We can pass a function as a paremeter to another function\n",
    "- We can return a function from a function\n",
    "- We can store a function in data structures as lists or dictionaries\n",
    "Decorators can  be added to functions and classes\n",
    "\n",
    "The basic structure of a decorator is the following:"
   ]
  },
  {
   "cell_type": "code",
   "execution_count": 1,
   "id": "fff878ae-2528-4da5-895a-6fdb163a69cc",
   "metadata": {},
   "outputs": [
    {
     "name": "stdout",
     "output_type": "stream",
     "text": [
      "Hello World!\n",
      "greet takes 8.710700058145449e-05\n",
      "Hello World!\n",
      "greet_copy takes 9.997998859034851e-06\n"
     ]
    }
   ],
   "source": [
    "import time\n",
    "\n",
    "def timer(func):  # We pass a function as a paremeter\n",
    "    def wrapper():\n",
    "        begin = time.perf_counter()\n",
    "        func()\n",
    "        end = time.perf_counter()\n",
    "        print(func.__name__, \"takes\", end - begin)\n",
    "    return wrapper  # We return a function from the timer function\n",
    "\n",
    "@timer\n",
    "def greet():\n",
    "    print(\"Hello World!\")\n",
    "\n",
    "def greet_copy():\n",
    "    print(\"Hello World!\")\n",
    "    \n",
    "greet()\n",
    "\n",
    "# Decorator usage is equivalent to the following\n",
    "greet_copy = timer(greet_copy)\n",
    "greet_copy()"
   ]
  },
  {
   "cell_type": "markdown",
   "id": "0e1bb868-6fc8-42a6-8cf9-9ab2d880fed4",
   "metadata": {},
   "source": [
    "In order to pass arguments and kwarguments from the function in the decorator we use *args and /*/*kwargs. Furthermore, we can store and return the function value to do something after it's called."
   ]
  },
  {
   "cell_type": "code",
   "execution_count": 4,
   "id": "f0625cd5-edf2-44b4-a2e3-8d67e483663b",
   "metadata": {},
   "outputs": [
    {
     "name": "stdout",
     "output_type": "stream",
     "text": [
      "sum_nums takes 2.2709973563905805e-06 with args = (2, 3, 4) kwargs = {}\n",
      "9\n",
      "Hello Juan !\n",
      "greet_by_name takes 1.826300285756588e-05 with args = ('Juan',) kwargs = {}\n",
      "Hello Sebastian !\n",
      "greet_by_name takes 1.928100027726032e-05 with args = () kwargs = {'name': 'Sebastian'}\n"
     ]
    }
   ],
   "source": [
    "import time\n",
    "\n",
    "def timer(func):  # We pass a function as a paremeter\n",
    "    def wrapper(*args, **kwargs):  # We get the *args and **kwargs in the wrapper and pass it to the func\n",
    "        begin = time.perf_counter()\n",
    "        result = func(*args, **kwargs)\n",
    "        end = time.perf_counter()\n",
    "        print(func.__name__, \"takes\", end - begin, \"with args =\", args, \"kwargs =\", kwargs)\n",
    "        return result\n",
    "    return wrapper  # We return a function from the timer function\n",
    "\n",
    "@timer\n",
    "def sum_nums(*args):\n",
    "    return sum(args)\n",
    "@timer\n",
    "def greet_by_name(name: str):\n",
    "    print(\"Hello\", name, \"!\")\n",
    "\n",
    "print(sum_nums(2, 3, 4))\n",
    "# We can pass args or kwargs\n",
    "greet_by_name(\"Juan\")\n",
    "greet_by_name(name=\"Sebastian\")"
   ]
  },
  {
   "cell_type": "markdown",
   "id": "723bceea-3667-47dc-86a6-4c7c679b00f2",
   "metadata": {},
   "source": [
    "# Keeping function properties\n",
    "When a decorator is passed to a function it returns the wrapper function"
   ]
  },
  {
   "cell_type": "code",
   "execution_count": 13,
   "id": "14f81b53-f70e-4e03-80b7-1ae98c41b618",
   "metadata": {},
   "outputs": [
    {
     "name": "stdout",
     "output_type": "stream",
     "text": [
      "[timer] setting up decorator...\n",
      "wrapper\n",
      "None\n"
     ]
    }
   ],
   "source": [
    "import time\n",
    "\n",
    "def timer(func):\n",
    "    print(\"[timer] setting up decorator...\")\n",
    "    def wrapper(*args, **kwargs):\n",
    "        begin = time.perf_counter()\n",
    "        result = func(*args, **kwargs)\n",
    "        end = time.perf_counter()\n",
    "        print(\"[timer]\", func.__name__, \"takes\", end - begin, \"with args =\", args, \"kwargs =\", kwargs)\n",
    "        return result\n",
    "    return wrapper\n",
    "\n",
    "@timer\n",
    "def greet_by_name(name: str):\n",
    "    \"\"\"\n",
    "    This is a function that greets by name\n",
    "    \"\"\"\n",
    "    print(\"Hello\", name, \"!\")\n",
    "\n",
    "print(greet_by_name.__name__)\n",
    "print(greet_by_name.__doc__)"
   ]
  },
  {
   "cell_type": "markdown",
   "id": "75ced653-55d1-484c-8cd6-1309d36e8c81",
   "metadata": {},
   "source": [
    "We can solve this passing the func properties to the wrapper"
   ]
  },
  {
   "cell_type": "code",
   "execution_count": 14,
   "id": "452bdb58-2ba8-49a7-8b14-f8b07fe07de4",
   "metadata": {},
   "outputs": [
    {
     "name": "stdout",
     "output_type": "stream",
     "text": [
      "[timer] setting up decorator...\n",
      "greet_by_name\n",
      "\n",
      "    This is a function that greets by name\n",
      "    \n"
     ]
    }
   ],
   "source": [
    "import time\n",
    "\n",
    "def timer(func):\n",
    "    print(\"[timer] setting up decorator...\")\n",
    "    def wrapper(*args, **kwargs):\n",
    "        begin = time.perf_counter()\n",
    "        result = func(*args, **kwargs)\n",
    "        end = time.perf_counter()\n",
    "        print(\"[timer]\", func.__name__, \"takes\", end - begin, \"with args =\", args, \"kwargs =\", kwargs)\n",
    "        return result\n",
    "    wrapper.__name__ = func.__name__\n",
    "    wrapper.__doc__ = func.__doc__\n",
    "    return wrapper\n",
    "\n",
    "@timer\n",
    "def greet_by_name(name: str):\n",
    "    \"\"\"\n",
    "    This is a function that greets by name\n",
    "    \"\"\"\n",
    "    print(\"Hello\", name, \"!\")\n",
    "\n",
    "print(greet_by_name.__name__)\n",
    "print(greet_by_name.__doc__)"
   ]
  },
  {
   "cell_type": "markdown",
   "id": "9b01230b-1295-46a3-af54-ef05c40c30fc",
   "metadata": {},
   "source": [
    "We can obtain the same result using the **functools.wraps** builtin function"
   ]
  },
  {
   "cell_type": "code",
   "execution_count": 18,
   "id": "88132eeb-1ea0-4f9f-ad78-3541a3c452c5",
   "metadata": {},
   "outputs": [
    {
     "name": "stdout",
     "output_type": "stream",
     "text": [
      "[timer] setting up decorator...\n",
      "greet_by_name\n",
      "\n",
      "    This is a function that greets by name\n",
      "    \n"
     ]
    }
   ],
   "source": [
    "import time\n",
    "from functools import wraps\n",
    "\n",
    "def timer(func):\n",
    "    print(\"[timer] setting up decorator...\")\n",
    "    @wraps(func)\n",
    "    def wrapper(*args, **kwargs):\n",
    "        begin = time.perf_counter()\n",
    "        result = func(*args, **kwargs)\n",
    "        end = time.perf_counter()\n",
    "        print(\"[timer]\", func.__name__, \"takes\", end - begin, \"with args =\", args, \"kwargs =\", kwargs)\n",
    "        return result\n",
    "    return wrapper\n",
    "\n",
    "@timer\n",
    "def greet_by_name(name: str):\n",
    "    \"\"\"\n",
    "    This is a function that greets by name\n",
    "    \"\"\"\n",
    "    print(\"Hello\", name, \"!\")\n",
    "\n",
    "print(greet_by_name.__name__)\n",
    "print(greet_by_name.__doc__)"
   ]
  },
  {
   "cell_type": "markdown",
   "id": "39e2822a-0ebb-4e02-8187-33c4645c8a48",
   "metadata": {},
   "source": [
    "## Nested decorators\n",
    "We can chain decorators, they will be executed from top to bottom"
   ]
  },
  {
   "cell_type": "code",
   "execution_count": 19,
   "id": "a5f85d3b-e5c9-4d85-a9ec-3e53673f1aa0",
   "metadata": {},
   "outputs": [
    {
     "name": "stdout",
     "output_type": "stream",
     "text": [
      "[timer] setting up decorator...\n",
      "[show_parameters] setting up decorator...\n",
      "[timer] setting up decorator...\n",
      "[show_parameters] setting up decorator...\n",
      "Functions definition done\n",
      "[show_parameters] sum_nums called with args = (2, 3, 4) kwargs = {}\n",
      "[timer] sum_nums takes 3.4050026442855597e-06 with args = (2, 3, 4) kwargs = {}\n",
      "9\n",
      "[show_parameters] greet_by_name called with args = ('Juan',) kwargs = {}\n",
      "Hello Juan !\n",
      "[timer] greet_by_name takes 2.33470018429216e-05 with args = ('Juan',) kwargs = {}\n",
      "[show_parameters] greet_by_name called with args = () kwargs = {'name': 'Sebastian'}\n",
      "Hello Sebastian !\n",
      "[timer] greet_by_name takes 2.5508001272100955e-05 with args = () kwargs = {'name': 'Sebastian'}\n",
      "greet_by_name\n",
      "[timer] setting up decorator...\n",
      "[show_parameters] setting up decorator...\n",
      "[show_parameters] greet_by_name_v2 called with args = ('Juan Sebastian',) kwargs = {}\n",
      "Hello Juan Sebastian !\n",
      "[timer] greet_by_name_v2 takes 2.4770997697487473e-05 with args = ('Juan Sebastian',) kwargs = {}\n",
      "greet_by_name_v2\n"
     ]
    }
   ],
   "source": [
    "import time\n",
    "from functools import wraps\n",
    "\n",
    "def timer(func):\n",
    "    print(\"[timer] setting up decorator...\")\n",
    "    @wraps(func)\n",
    "    def wrapper(*args, **kwargs):\n",
    "        begin = time.perf_counter()\n",
    "        result = func(*args, **kwargs)\n",
    "        end = time.perf_counter()\n",
    "        print(\"[timer]\", func.__name__, \"takes\", end - begin, \"with args =\", args, \"kwargs =\", kwargs)\n",
    "        return result\n",
    "    return wrapper\n",
    "    \n",
    "\n",
    "def show_parameters(func):\n",
    "    print(\"[show_parameters] setting up decorator...\")\n",
    "    @wraps(func)\n",
    "    def wrapper(*args, **kwargs):\n",
    "        print(\"[show_parameters]\", func.__name__, \"called\", \"with args =\", args, \"kwargs =\", kwargs)\n",
    "        return func(*args, **kwargs)\n",
    "    return wrapper\n",
    "\n",
    "@show_parameters\n",
    "@timer\n",
    "def sum_nums(*args):\n",
    "    return sum(args)\n",
    "\n",
    "@show_parameters\n",
    "@timer\n",
    "def greet_by_name(name: str):\n",
    "    print(\"Hello\", name, \"!\")\n",
    "\n",
    "print(\"Functions definition done\")\n",
    "print(sum_nums(2, 3, 4))\n",
    "greet_by_name(\"Juan\")\n",
    "greet_by_name(name=\"Sebastian\")\n",
    "print(greet_by_name.__name__)  # functools.wraps works with nested decorators\n",
    "\n",
    "# the above is equivalent to\n",
    "def greet_by_name_v2(name: str):\n",
    "    print(\"Hello\", name, \"!\")\n",
    "greet_by_name_v2 = show_parameters(timer(greet_by_name_v2))\n",
    "greet_by_name_v2(\"Juan Sebastian\")\n",
    "print(greet_by_name_v2.__name__)"
   ]
  },
  {
   "cell_type": "markdown",
   "id": "e09ca396-2e9e-4202-92ea-c6ec8cf66eba",
   "metadata": {},
   "source": [
    "## Decorators with arguments\n",
    "We can pass arguments to decorators nesting the decorator itself in another function  "
   ]
  },
  {
   "cell_type": "code",
   "execution_count": 53,
   "id": "df5bd15d-270c-422b-b7a6-2d8eefed3468",
   "metadata": {},
   "outputs": [
    {
     "name": "stdout",
     "output_type": "stream",
     "text": [
      "[repeat]\n",
      "[repeat_arguments]\n",
      "[repeat_func]\n",
      "[repeat]\n",
      "[repeat_no_arguments]\n",
      "[repeat]\n",
      "[repeat_arguments]\n",
      "[repeat_func]\n",
      "Function configuration done\n",
      "[repeat_func: wrapper]\n",
      "[5, 6, 8, 2, 7, 2]\n",
      "[wrapper]\n",
      "[2, 3]\n",
      "[repeat_func: wrapper]\n",
      "[0, 2, 5, 4, 3, 1]\n",
      "get_decimal_random\n",
      "get_decimal_random_2\n",
      "get_decimal_random_3\n",
      "[repeat]\n",
      "[repeat_arguments]\n",
      "[repeat_func]\n",
      "[repeat_func: wrapper]\n",
      "[0, 3, 6, 9, 8, 7]\n",
      "greet_by_name_v2\n"
     ]
    }
   ],
   "source": [
    "import random\n",
    "from functools import wraps\n",
    "\n",
    "def repeat(*opt, num: int = 2):\n",
    "    print(\"[repeat]\")    \n",
    "    if len(opt) == 1 and callable(opt[0]):  # The decorator was called without params with the function\n",
    "        print(\"[repeat_no_arguments]\")\n",
    "        @wraps(opt[0])\n",
    "        def wrapper(*args, **kwargs):\n",
    "            print(\"[wrapper]\")\n",
    "            return [opt[0](*args, **kwargs) for _ in range(num)]\n",
    "        return wrapper\n",
    "    \n",
    "    def repeat_func(func):\n",
    "        print(\"[repeat_arguments]\")\n",
    "        print(\"[repeat_func]\")\n",
    "        @wraps(func)\n",
    "        def wrapper(*args, **kwargs):\n",
    "            print(\"[repeat_func: wrapper]\")\n",
    "            return [func(*args, **kwargs) for _ in range(num if not opt else opt[0])]\n",
    "        return wrapper\n",
    "    return repeat_func\n",
    "\n",
    "\n",
    "@repeat(6)\n",
    "def get_decimal_random(low: int = 0, high: int = 10):\n",
    "    return random.randint(low, high)\n",
    "\n",
    "@repeat\n",
    "def get_decimal_random_2(low: int = 0, high: int = 10):\n",
    "    return random.randint(low, high)\n",
    "\n",
    "@repeat(num=6)\n",
    "def get_decimal_random_3(low: int = 0, high: int = 10):\n",
    "    return random.randint(low, high)\n",
    "\n",
    "print(\"Function configuration done\")\n",
    "print(get_decimal_random())\n",
    "print(get_decimal_random_2(2, 3))\n",
    "print(get_decimal_random_3(high=8))\n",
    "print(get_decimal_random.__name__)  # functools.wraps works with parameterized decorators\n",
    "print(get_decimal_random_2.__name__)\n",
    "print(get_decimal_random_3.__name__)\n",
    "\n",
    "# the above is equivalent to\n",
    "def get_decimal_random_v2(low: int = 0, high: int = 10):\n",
    "    return random.randint(low, high)\n",
    "get_decimal_random_v2 = repeat(6)(get_decimal_random_v2)\n",
    "print(get_decimal_random_v2())\n",
    "print(greet_by_name_v2.__name__)"
   ]
  },
  {
   "cell_type": "markdown",
   "id": "5b04ab76-2c32-4197-87e3-3216c8866b16",
   "metadata": {},
   "source": [
    "## Class as a decorator\n",
    "As we see until this point, a decorator is a callable. It is more common to use a function, but the classes are callable as well. Then, we can define a decorator with a function."
   ]
  },
  {
   "cell_type": "code",
   "execution_count": 28,
   "id": "13ba6c56-af21-4879-b683-bd4f6a7a07b5",
   "metadata": {},
   "outputs": [
    {
     "name": "stdout",
     "output_type": "stream",
     "text": [
      "[Timer] setting up decorator...\n",
      "Hello Juan !\n",
      "[Timer] greet_by_name takes 3.0414998036576435e-05 with args = ('Juan',) kwargs = {}\n",
      "Hello Sebastian !\n",
      "[Timer] greet_by_name takes 2.931500057457015e-05 with args = () kwargs = {'name': 'Sebastian'}\n",
      "greet_by_name\n"
     ]
    }
   ],
   "source": [
    "import time\n",
    "from functools import update_wrapper\n",
    "\n",
    "class Timer:\n",
    "    def __init__(self, func):\n",
    "        print(\"[Timer] setting up decorator...\")\n",
    "        self.func = func\n",
    "        update_wrapper(self, func)  # We can pass the func properties to the class with update_wrapper from functools\n",
    "    \n",
    "    def __call__(self, *args, **kwargs):\n",
    "        begin = time.perf_counter()\n",
    "        result = self.func(*args, **kwargs)\n",
    "        end = time.perf_counter()\n",
    "        print(\"[Timer]\", self.func.__name__, \"takes\", end - begin, \"with args =\", args, \"kwargs =\", kwargs)\n",
    "        return result\n",
    "\n",
    "@Timer\n",
    "def greet_by_name(name: str):\n",
    "    print(\"Hello\", name, \"!\")\n",
    "\n",
    "greet_by_name(\"Juan\")\n",
    "greet_by_name(name=\"Sebastian\")\n",
    "print(greet_by_name.__name__)"
   ]
  },
  {
   "cell_type": "markdown",
   "id": "3e56da71-d5f1-40fe-9501-533c83f5b49e",
   "metadata": {},
   "source": [
    "To create a decorator with arguents using a class we need to use a helper function"
   ]
  },
  {
   "cell_type": "code",
   "execution_count": 36,
   "id": "251cb898-c06e-4261-a9c5-ac063d4a4497",
   "metadata": {},
   "outputs": [
    {
     "name": "stdout",
     "output_type": "stream",
     "text": [
      "[Timer] setting up decorator...\n",
      "[Timer] setting up decorator...\n",
      "Hello Juan !\n",
      "[Timer] greet_by_name takes 2.841099922079593e-05 with args = ('Juan',) kwargs = {} None\n",
      "Hello Sebastian !\n",
      "None greet_by_name_2 takes 2.763399970717728e-05 with args = () kwargs = {'name': 'Sebastian'} None\n",
      "greet_by_name\n",
      "greet_by_name_2\n"
     ]
    }
   ],
   "source": [
    "import time\n",
    "from functools import update_wrapper, wraps\n",
    "\n",
    "class _Timer:\n",
    "    def __init__(self, func = None, prefix: str = None, suffix: str = None):\n",
    "        print(\"[Timer] setting up decorator...\")\n",
    "        self.func = func\n",
    "        self.prefix = prefix\n",
    "        self.suffix = suffix\n",
    "        update_wrapper(self, func)  # We can pass the func properties to the class with update_wrapper from functools\n",
    "    \n",
    "    def __call__(self, *args, **kwargs):\n",
    "        begin = time.perf_counter()\n",
    "        result = self.func(*args, **kwargs)\n",
    "        end = time.perf_counter()\n",
    "        print(self.prefix, self.func.__name__, \"takes\", end - begin, \"with args =\", args, \"kwargs =\", kwargs, self.suffix)\n",
    "        return result\n",
    "\n",
    "def Timer(func = None, prefix: str = None, suffix: str = None):\n",
    "    if func:\n",
    "        return _Timer(func)\n",
    "    else:\n",
    "        @wraps(func)\n",
    "        def wrapper(func):\n",
    "            return _Timer(func, prefix, suffix)\n",
    "        return wrapper\n",
    "\n",
    "@Timer(prefix=\"[Timer]\")  # We need to specify the param, if not it takes the input as the func param\n",
    "def greet_by_name(name: str):\n",
    "    print(\"Hello\", name, \"!\")\n",
    "\n",
    "@Timer\n",
    "def greet_by_name_2(name: str):\n",
    "    print(\"Hello\", name, \"!\")\n",
    "\n",
    "greet_by_name(\"Juan\")\n",
    "greet_by_name_2(name=\"Sebastian\")\n",
    "print(greet_by_name.__name__)\n",
    "print(greet_by_name_2.__name__)"
   ]
  },
  {
   "cell_type": "markdown",
   "id": "4e203a5e-89c8-46ca-959c-f1d80b63e8d7",
   "metadata": {},
   "source": [
    "## Decorating classes\n",
    "Decorating a class is simmilar to decorate a function, but we return the actual class"
   ]
  },
  {
   "cell_type": "code",
   "execution_count": 47,
   "id": "a69491b2-49a9-412c-a1e0-ed15b1dd75d6",
   "metadata": {},
   "outputs": [
    {
     "name": "stdout",
     "output_type": "stream",
     "text": [
      "[repeat]\n",
      "[repeat_func]\n",
      "__module__ __main__\n",
      "__init__ <function Spam.__init__ at 0x7f94f23a9990>\n",
      "grow <function Spam.grow at 0x7f94f23a9c60>\n",
      "__dict__ <attribute '__dict__' of 'Spam' objects>\n",
      "__weakref__ <attribute '__weakref__' of 'Spam' objects>\n",
      "__doc__ None\n",
      "[wrapper]\n",
      "Grow!\n",
      "Grow!\n",
      "<class '__main__.Spam'>\n"
     ]
    }
   ],
   "source": [
    "def logmethods(cls):\n",
    "    for key, value in vars(cls).items():\n",
    "        print(key, value)\n",
    "    return cls  # we return a class not a function\n",
    "\n",
    "def repeat(num: int = 2):\n",
    "    print(\"[repeat]\")\n",
    "    def repeat_func(func):\n",
    "        print(\"[repeat_func]\")\n",
    "        @wraps(func)\n",
    "        def wrapper(*args, **kwargs):  # We are passing the default self argument inside a method class\n",
    "            print(\"[wrapper]\")\n",
    "            return [func(*args, **kwargs) for _ in range(num)]\n",
    "        return wrapper\n",
    "    return repeat_func\n",
    "\n",
    "@logmethods\n",
    "class Spam:\n",
    "    def __init__(self, value) -> None:\n",
    "        self.value = value\n",
    "    \n",
    "    @repeat(2)\n",
    "    def grow(self):\n",
    "        print(\"Grow!\")\n",
    "\n",
    "spam = Spam(\"Hello\")\n",
    "spam.grow()\n",
    "print(Spam)"
   ]
  },
  {
   "cell_type": "code",
   "execution_count": null,
   "id": "af127e8c-9092-4f29-a5b7-14f241654289",
   "metadata": {},
   "outputs": [],
   "source": []
  }
 ],
 "metadata": {
  "kernelspec": {
   "display_name": "Python 3 (ipykernel)",
   "language": "python",
   "name": "python3"
  },
  "language_info": {
   "codemirror_mode": {
    "name": "ipython",
    "version": 3
   },
   "file_extension": ".py",
   "mimetype": "text/x-python",
   "name": "python",
   "nbconvert_exporter": "python",
   "pygments_lexer": "ipython3",
   "version": "3.10.8"
  }
 },
 "nbformat": 4,
 "nbformat_minor": 5
}
