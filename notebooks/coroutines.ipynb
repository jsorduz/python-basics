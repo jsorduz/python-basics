{
 "cells": [
  {
   "cell_type": "markdown",
   "id": "8abb97a9-f0fb-447d-b44b-4d208c443fc2",
   "metadata": {},
   "source": [
    "# Coroutines\n",
    "Coroutines are functions that can be paused and resumed at a particular point. These points/checkpoints are denoted with the keyword **yield** dividing the function into many parts. \n",
    "In order to resume from a particular point/checkpoint we use the keyword **next** .\n",
    "When we use **next** and there is not a yield statement we obtain an ***StopIteration*** exception.\n",
    "Furthermore, we can send values to the coroutine that stopped at a specific checkpoint using the keywork **send**."
   ]
  },
  {
   "cell_type": "code",
   "execution_count": 1,
   "id": "319c6164-078b-4a59-a7c2-991473756780",
   "metadata": {},
   "outputs": [
    {
     "name": "stdout",
     "output_type": "stream",
     "text": [
      "<class 'generator'>\n",
      "This is the beginning of the function\n",
      "Second part of the function\n",
      "Final part of the function\n",
      "StopIteration\n"
     ]
    }
   ],
   "source": [
    "def foo():\n",
    "    print(\"This is the beginning of the function\")\n",
    "    yield\n",
    "    print(\"Second part of the function\")\n",
    "    yield\n",
    "    print(\"Final part of the function\")\n",
    "\n",
    "try:\n",
    "    y = foo()\n",
    "    print(type(y))\n",
    "    next(y)\n",
    "    next(y)\n",
    "    next(y)\n",
    "except StopIteration:\n",
    "    print(\"StopIteration\")"
   ]
  },
  {
   "cell_type": "markdown",
   "id": "b50df4af-621f-4cc1-ba93-d00ee6c319ed",
   "metadata": {},
   "source": [
    "In each checkpoint we can return the value of variable in that point"
   ]
  },
  {
   "cell_type": "code",
   "execution_count": 2,
   "id": "66343ac3-0176-4523-a51a-552ecf13728d",
   "metadata": {},
   "outputs": [
    {
     "name": "stdout",
     "output_type": "stream",
     "text": [
      "<class 'generator'>\n",
      "1\n",
      "6\n",
      "4\n"
     ]
    }
   ],
   "source": [
    "def bar():\n",
    "    x = 1\n",
    "    yield x\n",
    "    x += 5\n",
    "    yield x\n",
    "    x -= 2\n",
    "    yield x\n",
    "\n",
    "try:\n",
    "    y = bar()\n",
    "    print(type(y))\n",
    "    print(next(y))\n",
    "    print(next(y))\n",
    "    print(next(y))\n",
    "except StopIteration:\n",
    "    print(\"StopIteration\")\n",
    "    "
   ]
  },
  {
   "cell_type": "markdown",
   "id": "912cfaac-95d6-49f5-af15-f2f6ca7f2a0f",
   "metadata": {},
   "source": [
    "We can send values to the coroutine"
   ]
  },
  {
   "cell_type": "code",
   "execution_count": 3,
   "id": "e831008e-0b3f-49de-93fa-e159ce839552",
   "metadata": {},
   "outputs": [
    {
     "name": "stdout",
     "output_type": "stream",
     "text": [
      "Starting function\n",
      "6\n",
      "Second part\n",
      "12\n",
      "Final part\n",
      "We need to stop in a yield to send a value\n",
      "can't send non-None value to a just-started generator\n"
     ]
    }
   ],
   "source": [
    "def func():\n",
    "    print(\"Starting function\")\n",
    "\n",
    "    x = yield\n",
    "    print(x)\n",
    "    print(\"Second part\")\n",
    "\n",
    "    a = yield\n",
    "    print(a)\n",
    "    print(\"Final part\")\n",
    "\n",
    "try:\n",
    "    y = func()\n",
    "    next(y)\n",
    "    y.send(6)\n",
    "    y.send(12)\n",
    "except StopIteration as e:\n",
    "    pass\n",
    "\n",
    "# We need to use send when we are in a yield checkpoint, to reach this checkpoint we use send\n",
    "try:\n",
    "    print(\"We need to stop in a yield to send a value\")\n",
    "    y = func()\n",
    "    # next(y)\n",
    "    y.send(6)\n",
    "    y.send(12)\n",
    "except TypeError as e:\n",
    "    print(e)"
   ]
  },
  {
   "cell_type": "markdown",
   "id": "4e39e9e4-9536-4ba9-acbf-02334beea739",
   "metadata": {},
   "source": [
    "We can close a coroutine, it raises a ***GeneratorExit*** exception"
   ]
  },
  {
   "cell_type": "code",
   "execution_count": 4,
   "id": "af4ea762-0dfc-4d19-a049-4b94b52f7e15",
   "metadata": {},
   "outputs": [
    {
     "name": "stdout",
     "output_type": "stream",
     "text": [
      "Hello Juan\n",
      "Hello Sebastian\n",
      "Closing coroutine...\n"
     ]
    }
   ],
   "source": [
    "def greet_name():\n",
    "    try:\n",
    "        while True:\n",
    "            name = yield\n",
    "            print(\"Hello\", name)\n",
    "    except GeneratorExit:\n",
    "        print(\"Closing coroutine...\")\n",
    "\n",
    "y = greet_name()\n",
    "y.__next__()\n",
    "y.send(\"Juan\")\n",
    "y.send(\"Sebastian\")\n",
    "y.close()"
   ]
  },
  {
   "cell_type": "markdown",
   "id": "792966d2-e714-4b8f-81d8-9b777d3c1994",
   "metadata": {},
   "source": [
    "Knowing that coroutines can stop, resume and get values. We can use several coroutines to form a pipeline where there is not a main function that call the other, in this pipeline one coroutine can receive data, process it and sent it to other coroutine to visualization.\n",
    "\n",
    "They seem simmilar to threads but they are not the same. Threads are managed by the operative system while coroutines are suspended and resumed by the programmer."
   ]
  },
  {
   "cell_type": "code",
   "execution_count": 5,
   "id": "b8843d3a-10d1-4094-b662-4a7dcdb18b25",
   "metadata": {},
   "outputs": [
    {
     "name": "stdout",
     "output_type": "stream",
     "text": [
      "[filter_match_character] I send word with '!' char to the 140529787670080 coroutine\n",
      "[filter_match_character] I send word with ',' char to the 140529787670080 coroutine\n",
      "[filter_match_character] Found match for ',' in 'Hello,'\n",
      "[display_filtered_word] Printing in an amazing display... Hello,\n",
      "[filter_match_character] Found match for '!' in 'World!'\n",
      "[display_filtered_word] Printing in an amazing display... World!\n",
      "[filter_match_character] Stopping filter for ','\n"
     ]
    }
   ],
   "source": [
    "def word_producer(sentence, next_coroutines):\n",
    "    words = sentence.split()\n",
    "    for word in words:\n",
    "        for next_coroutine in next_coroutines:\n",
    "            next_coroutine.send(word)\n",
    "    next_coroutine.close()\n",
    "\n",
    "def filter_match_character(char=\",\", next_coroutine=None):\n",
    "    if next_coroutine is not None:\n",
    "        print(f\"[filter_match_character] I send word with '{char}' char to the {id(next_coroutine)} coroutine\")\n",
    "    try:\n",
    "        while True:\n",
    "            word = yield\n",
    "            if char in word:\n",
    "                print(f\"[filter_match_character] Found match for '{char}' in '{word}'\")\n",
    "                if next_coroutine:\n",
    "                    next_coroutine.send(word)\n",
    "    except GeneratorExit:\n",
    "        print(f\"[filter_match_character] Stopping filter for '{char}'\")\n",
    "\n",
    "def display_filtered_word():\n",
    "    try:\n",
    "        while True:\n",
    "            word = yield\n",
    "            print(\"[display_filtered_word] Printing in an amazing display...\", word)\n",
    "    except GeneratorExit:\n",
    "        print(\"[display_filtered_word] Stopping amazing displayer\")\n",
    "\n",
    "display = display_filtered_word()\n",
    "next(display)\n",
    "filter_character_1 = filter_match_character(char=\"!\", next_coroutine=display)\n",
    "filter_character_1.__next__()\n",
    "filter_character_2 = filter_match_character(char=\",\", next_coroutine=display)\n",
    "filter_character_2.__next__()\n",
    "\n",
    "word_producer(\"Hello, World!\", [filter_character_1, filter_character_2])\n"
   ]
  },
  {
   "cell_type": "code",
   "execution_count": null,
   "id": "fc10dd1b-afa1-48b7-8ac4-6fa818c7a2b1",
   "metadata": {},
   "outputs": [],
   "source": []
  }
 ],
 "metadata": {
  "kernelspec": {
   "display_name": "Python 3 (ipykernel)",
   "language": "python",
   "name": "python3"
  },
  "language_info": {
   "codemirror_mode": {
    "name": "ipython",
    "version": 3
   },
   "file_extension": ".py",
   "mimetype": "text/x-python",
   "name": "python",
   "nbconvert_exporter": "python",
   "pygments_lexer": "ipython3",
   "version": "3.10.8"
  }
 },
 "nbformat": 4,
 "nbformat_minor": 5
}
