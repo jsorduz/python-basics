{
 "cells": [
  {
   "cell_type": "markdown",
   "id": "50e40fd4-d58a-4a55-8b79-d5c23a15239d",
   "metadata": {},
   "source": [
    "# AsyncIO\n",
    "AsyncIO is a concurrent programming design which sometimes we associate with concepts as *concurrency, parallelism, threading, multiprocessing, etc*. Then let's start with some definitions:\n",
    "- parallelism: perform multiple operations at the same time.\n",
    "- multiprocessing: is a way to perform parallelism where tasks are spread over CPUs or cores\n",
    "- concurrency: perform multiple tasks in an overlapped manner. It is a bigger concept thatn parallelism and concurrency does not imply parallelism\n",
    "- threading: concurrent execution model where multiples threads takes turns executing tasks\n",
    "\n",
    "Knowing the above concepts, **asyncIO is a library to write concurrent code, but is not threading or multiprocessing**.\n",
    "It is a single-threaded, single-process design that uses **cooperative multitasking**.\n",
    "The difference between AsyncIO and threading is that:\n",
    "- threading: operative system controls the change between threads, then the code doesn't need to do anything to make them switch but it can be difficult because it can change anytime.\n",
    "- AsyncIO: programmer constrols the change between tasks, then it is expected cooperative multitasking: the tasks must announce when they are ready to be switched out. This implies extra work but we know exactly where the task will be swapped out.\n",
    "\n",
    "Concurrency and therefore AsyncIO is useful when our program must wait for external sources, for example, http requests, upload/download files, printer, etc. Then, instead of waste time waiting for the external source, we pause the current task and advance with another one, then we go back to the first task to see if the external source is ready or we continue with something else.\n",
    "\n",
    "Summaryzing, AsyncIO uses one thread and one core, and instead of waiting for external entities, it does something else.\n",
    "\n",
    "For basic usage we will be using:\n",
    "- **async** is used to define a native coroutine or an asynchronous generator: async def, async with or async for.\n",
    "- **await** passes the control back to the event loop while waiting for a result."
   ]
  },
  {
   "cell_type": "code",
   "execution_count": 15,
   "id": "8d6164e2-c6bb-43fa-a249-72290f095694",
   "metadata": {},
   "outputs": [
    {
     "name": "stdout",
     "output_type": "stream",
     "text": [
      "[sync] Hello\n",
      "[sync] Juan\n",
      "[sync] Hello\n",
      "[sync] Sebastian\n",
      "[sync] Hello\n",
      "[sync] Andres\n",
      "Sync executed in: 3.003924213000573\n",
      "[async] Hello\n",
      "[async] Hello\n",
      "[async] Hello\n",
      "[sync] Juan\n",
      "[sync] Sebastian\n",
      "[sync] Andres\n",
      "Async executed in: 1.0031405080007971\n"
     ]
    }
   ],
   "source": [
    "import asyncio\n",
    "import time\n",
    "\n",
    "def greet(name: str):\n",
    "    print(\"[sync]\", \"Hello\")\n",
    "    time.sleep(1)\n",
    "    print(\"[sync]\", name)\n",
    "\n",
    "async def greet_async(name: str):\n",
    "    print(\"[async]\", \"Hello\")\n",
    "    # We execute the first part of the function, then give the control back to the loop to execute something else instead of waiting\n",
    "    await asyncio.sleep(1)\n",
    "    print(\"[sync]\", name)\n",
    "\n",
    "# Sync approach takes 3 seconds\n",
    "s = time.perf_counter()\n",
    "greet(\"Juan\")\n",
    "greet(\"Sebastian\")\n",
    "greet(\"Andres\")\n",
    "print(f\"Sync executed in: {time.perf_counter() - s}\")\n",
    "\n",
    "# Async approach takes 1 second because instead of waiting in the first greet_async, the loop continue with the next one\n",
    "s = time.perf_counter()\n",
    "async def main():\n",
    "    await asyncio.gather(greet_async(\"Juan\"), greet_async(\"Sebastian\"), greet_async(\"Andres\"))\n",
    "## In Jupyter notebooks we can await async functions without assigning it to a loop\n",
    "await main()\n",
    "print(f\"Async executed in: {time.perf_counter() - s}\")\n"
   ]
  },
  {
   "cell_type": "markdown",
   "id": "1870391e-a281-4b11-86c9-97aa83d49c56",
   "metadata": {},
   "source": [
    "We can chain coroutines waiting for a coroutine result and use it in another one."
   ]
  },
  {
   "cell_type": "code",
   "execution_count": 20,
   "id": "18bc5e36-281e-436a-8b3d-6c19d35b3825",
   "metadata": {},
   "outputs": [
    {
     "name": "stdout",
     "output_type": "stream",
     "text": [
      "[main] Starting program\n",
      "[get_temperature] Obtaining temperature from our amaizing towers!\n",
      "[wear_jacket] Calculating if you should wear a jacket!\n",
      "Temperature: 33 Don't wear a jacket!\n"
     ]
    }
   ],
   "source": [
    "import random\n",
    "import asyncio\n",
    "\n",
    "async def get_temperature():\n",
    "    print(\"[get_temperature]\", \"Obtaining temperature from our amaizing towers!\")\n",
    "    await asyncio.sleep(1)\n",
    "    return random.randint(10, 40)\n",
    "\n",
    "async def wear_jacket(temperature):\n",
    "    print(\"[wear_jacket]\", \"Calculating if you should wear a jacket!\")\n",
    "    await asyncio.sleep(1)\n",
    "    return temperature < 20\n",
    "\n",
    "async def main():\n",
    "    print(\"[main]\", \"Starting program\")\n",
    "    temperature = await get_temperature()\n",
    "    should_wear_jacket = await wear_jacket(temperature)\n",
    "    msg = \"Wear a jacket!\" if should_wear_jacket is True else \"Don't wear a jacket!\"\n",
    "    print(\"Temperature:\", temperature, msg)\n",
    "    \n",
    "# Runtime of the main function is equalts to the sum of the called tasks runtime\n",
    "await main()\n",
    "    "
   ]
  },
  {
   "cell_type": "markdown",
   "id": "46bf8d2c-ea04-414f-8e32-20c6ce2d0d16",
   "metadata": {},
   "source": [
    "When we call a coroutine, we obtain a coroutine object, it is not actually execute. To execute an async coroutine we can use:\n",
    "- **asyncio.run()**\n",
    "- **asyncio.create_task()** takes a coroutine an optional name and returns a **Task**."
   ]
  },
  {
   "cell_type": "code",
   "execution_count": 25,
   "id": "ba01804c-157b-4599-9a35-c2cb214aa1ad",
   "metadata": {},
   "outputs": [
    {
     "name": "stdout",
     "output_type": "stream",
     "text": [
      "[async] Hello\n",
      "[async] Juan\n",
      "[async] Hello\n",
      "[async] Sebastian\n",
      "[main] finished in 3.0047011130009196\n",
      "[async] Hello\n",
      "[async] Hello\n",
      "[async] Juan\n",
      "[async] Sebastian\n",
      "[main_create_task] finished in 2.002152148997993\n"
     ]
    }
   ],
   "source": [
    "import asyncio\n",
    "import time\n",
    "import random\n",
    "\n",
    "async def greet_async(wait, name: str):\n",
    "    print(\"[async]\", \"Hello\")\n",
    "    await asyncio.sleep(wait)\n",
    "    print(\"[async]\", name)\n",
    "\n",
    "async def main():\n",
    "    s = time.perf_counter()\n",
    "    await greet_async(1, \"Juan\")\n",
    "    await greet_async(2, \"Sebastian\")\n",
    "    print(\"[main]\", f\"finished in {time.perf_counter() - s}\")\n",
    "    \n",
    "async def main_create_task():\n",
    "    s = time.perf_counter()\n",
    "    task1 = asyncio.create_task(greet_async(1, \"Juan\"))\n",
    "    task2 = asyncio.create_task(greet_async(2, \"Sebastian\"), name=\"greetSebastian\")\n",
    "\n",
    "    # Wait until both tasks are completed (should take around 2 seconds.)\n",
    "    await task1\n",
    "    await task2\n",
    "\n",
    "    print(\"[main_create_task]\", f\"finished in {time.perf_counter() - s}\")\n",
    "\n",
    "await main()\n",
    "await main_create_task()"
   ]
  },
  {
   "cell_type": "code",
   "execution_count": null,
   "id": "d2a9d4c2-d9cd-4719-b471-77565d791e0b",
   "metadata": {},
   "outputs": [],
   "source": []
  }
 ],
 "metadata": {
  "kernelspec": {
   "display_name": "Python 3 (ipykernel)",
   "language": "python",
   "name": "python3"
  },
  "language_info": {
   "codemirror_mode": {
    "name": "ipython",
    "version": 3
   },
   "file_extension": ".py",
   "mimetype": "text/x-python",
   "name": "python",
   "nbconvert_exporter": "python",
   "pygments_lexer": "ipython3",
   "version": "3.10.8"
  }
 },
 "nbformat": 4,
 "nbformat_minor": 5
}
